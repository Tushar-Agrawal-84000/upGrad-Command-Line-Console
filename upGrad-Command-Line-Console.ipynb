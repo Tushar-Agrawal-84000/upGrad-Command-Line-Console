{
 "cells": [
  {
   "cell_type": "markdown",
   "id": "0bc5c01b",
   "metadata": {},
   "source": [
    "# Inputting a list"
   ]
  },
  {
   "cell_type": "code",
   "execution_count": 4,
   "id": "21c25bdc",
   "metadata": {},
   "outputs": [],
   "source": [
    "import ast,sys\n",
    "input_str = sys.stdin.read()\n",
    "input_list = ast.literal_eval(input_str)"
   ]
  },
  {
   "cell_type": "markdown",
   "id": "026a0381",
   "metadata": {},
   "source": [
    "# Inputting 3 list"
   ]
  },
  {
   "cell_type": "code",
   "execution_count": null,
   "id": "bd357da9",
   "metadata": {},
   "outputs": [],
   "source": [
    "import ast\n",
    "\n",
    "#read the input here.\n",
    "input_lst = input()\n",
    "round_1 = ast.literal_eval(input_lst )\n",
    "\n",
    "#read the input here.\n",
    "input_lst = input()\n",
    "round_2= ast.literal_eval(input_lst )\n",
    "\n",
    "#read the input here.\n",
    "input_lst = input()\n",
    "round_3= ast.literal_eval(input_lst )"
   ]
  }
 ],
 "metadata": {
  "kernelspec": {
   "display_name": "Python 3 (ipykernel)",
   "language": "python",
   "name": "python3"
  },
  "language_info": {
   "codemirror_mode": {
    "name": "ipython",
    "version": 3
   },
   "file_extension": ".py",
   "mimetype": "text/x-python",
   "name": "python",
   "nbconvert_exporter": "python",
   "pygments_lexer": "ipython3",
   "version": "3.11.3"
  }
 },
 "nbformat": 4,
 "nbformat_minor": 5
}
